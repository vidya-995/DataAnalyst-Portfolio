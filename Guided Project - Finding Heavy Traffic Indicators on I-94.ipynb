{
 "cells": [
  {
   "cell_type": "markdown",
   "id": "a5a1f9cf",
   "metadata": {},
   "source": [
    "# Guided project: Finding heavy traffic indicators\n",
    "\n",
    "The goal of our analysis is to determine a few indicators of heavy traffic on I-94. These indicators can be weather type, time of the day, time of the week, etc.\n"
   ]
  },
  {
   "cell_type": "markdown",
   "id": "8d3231b3",
   "metadata": {},
   "source": [
    "## Import and view data"
   ]
  },
  {
   "cell_type": "code",
   "execution_count": 1,
   "id": "9efc365f",
   "metadata": {},
   "outputs": [],
   "source": [
    "import pandas as pd\n",
    "import numpy as np\n",
    "import matplotlib.pyplot as plt\n",
    "%matplotlib inline"
   ]
  },
  {
   "cell_type": "code",
   "execution_count": 2,
   "id": "b0735a79",
   "metadata": {},
   "outputs": [
    {
     "name": "stdout",
     "output_type": "stream",
     "text": [
      "<class 'pandas.core.frame.DataFrame'>\n",
      "RangeIndex: 48204 entries, 0 to 48203\n",
      "Data columns (total 9 columns):\n",
      " #   Column               Non-Null Count  Dtype  \n",
      "---  ------               --------------  -----  \n",
      " 0   holiday              48204 non-null  object \n",
      " 1   temp                 48204 non-null  float64\n",
      " 2   rain_1h              48204 non-null  float64\n",
      " 3   snow_1h              48204 non-null  float64\n",
      " 4   clouds_all           48204 non-null  int64  \n",
      " 5   weather_main         48204 non-null  object \n",
      " 6   weather_description  48204 non-null  object \n",
      " 7   date_time            48204 non-null  object \n",
      " 8   traffic_volume       48204 non-null  int64  \n",
      "dtypes: float64(3), int64(2), object(4)\n",
      "memory usage: 3.3+ MB\n"
     ]
    },
    {
     "data": {
      "text/html": [
       "<div>\n",
       "<style scoped>\n",
       "    .dataframe tbody tr th:only-of-type {\n",
       "        vertical-align: middle;\n",
       "    }\n",
       "\n",
       "    .dataframe tbody tr th {\n",
       "        vertical-align: top;\n",
       "    }\n",
       "\n",
       "    .dataframe thead th {\n",
       "        text-align: right;\n",
       "    }\n",
       "</style>\n",
       "<table border=\"1\" class=\"dataframe\">\n",
       "  <thead>\n",
       "    <tr style=\"text-align: right;\">\n",
       "      <th></th>\n",
       "      <th>holiday</th>\n",
       "      <th>temp</th>\n",
       "      <th>rain_1h</th>\n",
       "      <th>snow_1h</th>\n",
       "      <th>clouds_all</th>\n",
       "      <th>weather_main</th>\n",
       "      <th>weather_description</th>\n",
       "      <th>date_time</th>\n",
       "      <th>traffic_volume</th>\n",
       "    </tr>\n",
       "  </thead>\n",
       "  <tbody>\n",
       "    <tr>\n",
       "      <th>0</th>\n",
       "      <td>None</td>\n",
       "      <td>288.28</td>\n",
       "      <td>0.0</td>\n",
       "      <td>0.0</td>\n",
       "      <td>40</td>\n",
       "      <td>Clouds</td>\n",
       "      <td>scattered clouds</td>\n",
       "      <td>2012-10-02 09:00:00</td>\n",
       "      <td>5545</td>\n",
       "    </tr>\n",
       "    <tr>\n",
       "      <th>1</th>\n",
       "      <td>None</td>\n",
       "      <td>289.36</td>\n",
       "      <td>0.0</td>\n",
       "      <td>0.0</td>\n",
       "      <td>75</td>\n",
       "      <td>Clouds</td>\n",
       "      <td>broken clouds</td>\n",
       "      <td>2012-10-02 10:00:00</td>\n",
       "      <td>4516</td>\n",
       "    </tr>\n",
       "    <tr>\n",
       "      <th>2</th>\n",
       "      <td>None</td>\n",
       "      <td>289.58</td>\n",
       "      <td>0.0</td>\n",
       "      <td>0.0</td>\n",
       "      <td>90</td>\n",
       "      <td>Clouds</td>\n",
       "      <td>overcast clouds</td>\n",
       "      <td>2012-10-02 11:00:00</td>\n",
       "      <td>4767</td>\n",
       "    </tr>\n",
       "    <tr>\n",
       "      <th>3</th>\n",
       "      <td>None</td>\n",
       "      <td>290.13</td>\n",
       "      <td>0.0</td>\n",
       "      <td>0.0</td>\n",
       "      <td>90</td>\n",
       "      <td>Clouds</td>\n",
       "      <td>overcast clouds</td>\n",
       "      <td>2012-10-02 12:00:00</td>\n",
       "      <td>5026</td>\n",
       "    </tr>\n",
       "    <tr>\n",
       "      <th>4</th>\n",
       "      <td>None</td>\n",
       "      <td>291.14</td>\n",
       "      <td>0.0</td>\n",
       "      <td>0.0</td>\n",
       "      <td>75</td>\n",
       "      <td>Clouds</td>\n",
       "      <td>broken clouds</td>\n",
       "      <td>2012-10-02 13:00:00</td>\n",
       "      <td>4918</td>\n",
       "    </tr>\n",
       "  </tbody>\n",
       "</table>\n",
       "</div>"
      ],
      "text/plain": [
       "  holiday    temp  rain_1h  snow_1h  clouds_all weather_main  \\\n",
       "0    None  288.28      0.0      0.0          40       Clouds   \n",
       "1    None  289.36      0.0      0.0          75       Clouds   \n",
       "2    None  289.58      0.0      0.0          90       Clouds   \n",
       "3    None  290.13      0.0      0.0          90       Clouds   \n",
       "4    None  291.14      0.0      0.0          75       Clouds   \n",
       "\n",
       "  weather_description            date_time  traffic_volume  \n",
       "0    scattered clouds  2012-10-02 09:00:00            5545  \n",
       "1       broken clouds  2012-10-02 10:00:00            4516  \n",
       "2     overcast clouds  2012-10-02 11:00:00            4767  \n",
       "3     overcast clouds  2012-10-02 12:00:00            5026  \n",
       "4       broken clouds  2012-10-02 13:00:00            4918  "
      ]
     },
     "execution_count": 2,
     "metadata": {},
     "output_type": "execute_result"
    }
   ],
   "source": [
    "traffic = pd.read_csv(r'C:\\Users\\skhatri\\Metro_Interstate_Traffic_Volume.csv')\n",
    "traffic.info()\n",
    "traffic.head()"
   ]
  },
  {
   "cell_type": "markdown",
   "id": "1a1aae2f",
   "metadata": {},
   "source": [
    "## Analyse traffic volume"
   ]
  },
  {
   "cell_type": "code",
   "execution_count": 3,
   "id": "ac15d26d",
   "metadata": {},
   "outputs": [
    {
     "data": {
      "text/plain": [
       "count    48204.000000\n",
       "mean      3259.818355\n",
       "std       1986.860670\n",
       "min          0.000000\n",
       "25%       1193.000000\n",
       "50%       3380.000000\n",
       "75%       4933.000000\n",
       "max       7280.000000\n",
       "Name: traffic_volume, dtype: float64"
      ]
     },
     "execution_count": 3,
     "metadata": {},
     "output_type": "execute_result"
    },
    {
     "data": {
      "image/png": "[encoded data removed]",
      "text/plain": [
       "<Figure size 432x288 with 1 Axes>"
      ]
     },
     "metadata": {
      "needs_background": "light"
     },
     "output_type": "display_data"
    }
   ],
   "source": [
    "traffic['traffic_volume'].hist()\n",
    "traffic['traffic_volume'].describe()"
   ]
  },
  {
   "cell_type": "markdown",
   "id": "b33563fa",
   "metadata": {},
   "source": [
    "#### Observations:\n",
    "There appear to be two peaks in the distribution, suggesting a bimodal or mixed distrubtion. One at 0 and one around 5000, with an overall median and mean of ~3300. We need to get  underneath the data more to understand what's happening."
   ]
  },
  {
   "cell_type": "markdown",
   "id": "5fcc3fe8",
   "metadata": {},
   "source": [
    "## Day-time vs night-time traffic"
   ]
  },
  {
   "cell_type": "markdown",
   "id": "e0c9d60b",
   "metadata": {},
   "source": [
    "Set date_time format and isolate the hour"
   ]
  },
  {
   "cell_type": "code",
   "execution_count": 4,
   "id": "115195c3",
   "metadata": {},
   "outputs": [
    {
     "data": {
      "text/html": [
       "<div>\n",
       "<style scoped>\n",
       "    .dataframe tbody tr th:only-of-type {\n",
       "        vertical-align: middle;\n",
       "    }\n",
       "\n",
       "    .dataframe tbody tr th {\n",
       "        vertical-align: top;\n",
       "    }\n",
       "\n",
       "    .dataframe thead th {\n",
       "        text-align: right;\n",
       "    }\n",
       "</style>\n",
       "<table border=\"1\" class=\"dataframe\">\n",
       "  <thead>\n",
       "    <tr style=\"text-align: right;\">\n",
       "      <th></th>\n",
       "      <th>holiday</th>\n",
       "      <th>temp</th>\n",
       "      <th>rain_1h</th>\n",
       "      <th>snow_1h</th>\n",
       "      <th>clouds_all</th>\n",
       "      <th>weather_main</th>\n",
       "      <th>weather_description</th>\n",
       "      <th>date_time</th>\n",
       "      <th>traffic_volume</th>\n",
       "      <th>hour</th>\n",
       "    </tr>\n",
       "  </thead>\n",
       "  <tbody>\n",
       "    <tr>\n",
       "      <th>0</th>\n",
       "      <td>None</td>\n",
       "      <td>288.28</td>\n",
       "      <td>0.0</td>\n",
       "      <td>0.0</td>\n",
       "      <td>40</td>\n",
       "      <td>Clouds</td>\n",
       "      <td>scattered clouds</td>\n",
       "      <td>2012-10-02 09:00:00</td>\n",
       "      <td>5545</td>\n",
       "      <td>9</td>\n",
       "    </tr>\n",
       "    <tr>\n",
       "      <th>1</th>\n",
       "      <td>None</td>\n",
       "      <td>289.36</td>\n",
       "      <td>0.0</td>\n",
       "      <td>0.0</td>\n",
       "      <td>75</td>\n",
       "      <td>Clouds</td>\n",
       "      <td>broken clouds</td>\n",
       "      <td>2012-10-02 10:00:00</td>\n",
       "      <td>4516</td>\n",
       "      <td>10</td>\n",
       "    </tr>\n",
       "    <tr>\n",
       "      <th>2</th>\n",
       "      <td>None</td>\n",
       "      <td>289.58</td>\n",
       "      <td>0.0</td>\n",
       "      <td>0.0</td>\n",
       "      <td>90</td>\n",
       "      <td>Clouds</td>\n",
       "      <td>overcast clouds</td>\n",
       "      <td>2012-10-02 11:00:00</td>\n",
       "      <td>4767</td>\n",
       "      <td>11</td>\n",
       "    </tr>\n",
       "    <tr>\n",
       "      <th>3</th>\n",
       "      <td>None</td>\n",
       "      <td>290.13</td>\n",
       "      <td>0.0</td>\n",
       "      <td>0.0</td>\n",
       "      <td>90</td>\n",
       "      <td>Clouds</td>\n",
       "      <td>overcast clouds</td>\n",
       "      <td>2012-10-02 12:00:00</td>\n",
       "      <td>5026</td>\n",
       "      <td>12</td>\n",
       "    </tr>\n",
       "    <tr>\n",
       "      <th>4</th>\n",
       "      <td>None</td>\n",
       "      <td>291.14</td>\n",
       "      <td>0.0</td>\n",
       "      <td>0.0</td>\n",
       "      <td>75</td>\n",
       "      <td>Clouds</td>\n",
       "      <td>broken clouds</td>\n",
       "      <td>2012-10-02 13:00:00</td>\n",
       "      <td>4918</td>\n",
       "      <td>13</td>\n",
       "    </tr>\n",
       "  </tbody>\n",
       "</table>\n",
       "</div>"
      ],
      "text/plain": [
       "  holiday    temp  rain_1h  snow_1h  clouds_all weather_main  \\\n",
       "0    None  288.28      0.0      0.0          40       Clouds   \n",
       "1    None  289.36      0.0      0.0          75       Clouds   \n",
       "2    None  289.58      0.0      0.0          90       Clouds   \n",
       "3    None  290.13      0.0      0.0          90       Clouds   \n",
       "4    None  291.14      0.0      0.0          75       Clouds   \n",
       "\n",
       "  weather_description           date_time  traffic_volume  hour  \n",
       "0    scattered clouds 2012-10-02 09:00:00            5545     9  \n",
       "1       broken clouds 2012-10-02 10:00:00            4516    10  \n",
       "2     overcast clouds 2012-10-02 11:00:00            4767    11  \n",
       "3     overcast clouds 2012-10-02 12:00:00            5026    12  \n",
       "4       broken clouds 2012-10-02 13:00:00            4918    13  "
      ]
     },
     "execution_count": 4,
     "metadata": {},
     "output_type": "execute_result"
    }
   ],
   "source": [
    "traffic['date_time'] = pd.to_datetime(traffic['date_time'])\n",
    "traffic['hour'] = traffic['date_time'].dt.hour\n",
    "traffic.head()"
   ]
  },
  {
   "cell_type": "markdown",
   "id": "37e10745",
   "metadata": {},
   "source": [
    "Create day time and night time datasets"
   ]
  },
  {
   "cell_type": "code",
   "execution_count": 5,
   "id": "195f4419",
   "metadata": {},
   "outputs": [],
   "source": [
    "day = traffic[(traffic['hour'] >= 7) & (traffic['hour'] < 19)] # day time\n",
    "night = traffic[(traffic['hour'] < 7) | (traffic['hour'] >= 19)] # night time"
   ]
  },
  {
   "cell_type": "markdown",
   "id": "70471d53",
   "metadata": {},
   "source": [
    "Look at distributions of day and night traffic volume"
   ]
  },
  {
   "cell_type": "code",
   "execution_count": 6,
   "id": "c98f5049",
   "metadata": {},
   "outputs": [
    {
     "name": "stdout",
     "output_type": "stream",
     "text": [
      "Day traffic volume\n",
      "count    23877.000000\n",
      "mean      4762.047452\n",
      "std       1174.546482\n",
      "min          0.000000\n",
      "25%       4252.000000\n",
      "50%       4820.000000\n",
      "75%       5559.000000\n",
      "max       7280.000000\n",
      "Name: traffic_volume, dtype: float64\n",
      "\n",
      "Night traffic volume\n",
      "count    24327.000000\n",
      "mean      1785.377441\n",
      "std       1441.951197\n",
      "min          0.000000\n",
      "25%        530.000000\n",
      "50%       1287.000000\n",
      "75%       2819.000000\n",
      "max       6386.000000\n",
      "Name: traffic_volume, dtype: float64\n"
     ]
    },
    {
     "data": {
      "image/png": "[encoded data removed]",
      "text/plain": [
       "<Figure size 720x360 with 2 Axes>"
      ]
     },
     "metadata": {
      "needs_background": "light"
     },
     "output_type": "display_data"
    }
   ],
   "source": [
    "plt.figure(figsize = (10,5))\n",
    "plt.subplot(1,2,1)\n",
    "plt.hist(day['traffic_volume'])\n",
    "plt.title('Day traffic volume')\n",
    "plt.xlabel('Traffic volume')\n",
    "plt.ylabel('Frequency')\n",
    "plt.ylim(0,8000)\n",
    "\n",
    "plt.subplot(1,2,2)\n",
    "plt.hist(night['traffic_volume'])\n",
    "plt.title('Night traffic volume')\n",
    "plt.xlabel('Traffic volume')\n",
    "plt.ylabel('Frequency')\n",
    "plt.ylim(0,8000)\n",
    "\n",
    "print('Day traffic volume')\n",
    "print(day['traffic_volume'].describe())\n",
    "print('')\n",
    "print('Night traffic volume')\n",
    "print(night['traffic_volume'].describe())"
   ]
  },
  {
   "cell_type": "markdown",
   "id": "7c856925",
   "metadata": {},
   "source": [
    "#### Observations:\n",
    "Time of day appears to be a key driver of traffic, with day time seeing significantly more heavy traffic compared to night time. \n",
    "- Day time: The distribution has left skew and single peak and median at around 5000. 75% of the time, traffic volume is above 4250.\n",
    "- Night time: The distribution has a right skew and a peak around 0-500 and median around 1200. 75% of the time, traffic is below  2819.\n",
    "\n",
    "It would make sense to focus on day time data in our investigation of heavy traffic indicators."
   ]
  },
  {
   "cell_type": "markdown",
   "id": "b725ddf8",
   "metadata": {},
   "source": [
    "## Time indicators"
   ]
  },
  {
   "cell_type": "code",
   "execution_count": 7,
   "id": "89b33fc7",
   "metadata": {},
   "outputs": [],
   "source": [
    "day=day.copy()\n",
    "day['month']=day['date_time'].dt.month\n",
    "day['dayofweek']=day['date_time'].dt.dayofweek"
   ]
  },
  {
   "cell_type": "code",
   "execution_count": 8,
   "id": "ce1190a5",
   "metadata": {},
   "outputs": [
    {
     "data": {
      "text/html": [
       "<div>\n",
       "<style scoped>\n",
       "    .dataframe tbody tr th:only-of-type {\n",
       "        vertical-align: middle;\n",
       "    }\n",
       "\n",
       "    .dataframe tbody tr th {\n",
       "        vertical-align: top;\n",
       "    }\n",
       "\n",
       "    .dataframe thead th {\n",
       "        text-align: right;\n",
       "    }\n",
       "</style>\n",
       "<table border=\"1\" class=\"dataframe\">\n",
       "  <thead>\n",
       "    <tr style=\"text-align: right;\">\n",
       "      <th></th>\n",
       "      <th>holiday</th>\n",
       "      <th>temp</th>\n",
       "      <th>rain_1h</th>\n",
       "      <th>snow_1h</th>\n",
       "      <th>clouds_all</th>\n",
       "      <th>weather_main</th>\n",
       "      <th>weather_description</th>\n",
       "      <th>date_time</th>\n",
       "      <th>traffic_volume</th>\n",
       "      <th>hour</th>\n",
       "      <th>month</th>\n",
       "      <th>dayofweek</th>\n",
       "    </tr>\n",
       "  </thead>\n",
       "  <tbody>\n",
       "    <tr>\n",
       "      <th>0</th>\n",
       "      <td>None</td>\n",
       "      <td>288.28</td>\n",
       "      <td>0.0</td>\n",
       "      <td>0.0</td>\n",
       "      <td>40</td>\n",
       "      <td>Clouds</td>\n",
       "      <td>scattered clouds</td>\n",
       "      <td>2012-10-02 09:00:00</td>\n",
       "      <td>5545</td>\n",
       "      <td>9</td>\n",
       "      <td>10</td>\n",
       "      <td>1</td>\n",
       "    </tr>\n",
       "    <tr>\n",
       "      <th>1</th>\n",
       "      <td>None</td>\n",
       "      <td>289.36</td>\n",
       "      <td>0.0</td>\n",
       "      <td>0.0</td>\n",
       "      <td>75</td>\n",
       "      <td>Clouds</td>\n",
       "      <td>broken clouds</td>\n",
       "      <td>2012-10-02 10:00:00</td>\n",
       "      <td>4516</td>\n",
       "      <td>10</td>\n",
       "      <td>10</td>\n",
       "      <td>1</td>\n",
       "    </tr>\n",
       "    <tr>\n",
       "      <th>2</th>\n",
       "      <td>None</td>\n",
       "      <td>289.58</td>\n",
       "      <td>0.0</td>\n",
       "      <td>0.0</td>\n",
       "      <td>90</td>\n",
       "      <td>Clouds</td>\n",
       "      <td>overcast clouds</td>\n",
       "      <td>2012-10-02 11:00:00</td>\n",
       "      <td>4767</td>\n",
       "      <td>11</td>\n",
       "      <td>10</td>\n",
       "      <td>1</td>\n",
       "    </tr>\n",
       "    <tr>\n",
       "      <th>3</th>\n",
       "      <td>None</td>\n",
       "      <td>290.13</td>\n",
       "      <td>0.0</td>\n",
       "      <td>0.0</td>\n",
       "      <td>90</td>\n",
       "      <td>Clouds</td>\n",
       "      <td>overcast clouds</td>\n",
       "      <td>2012-10-02 12:00:00</td>\n",
       "      <td>5026</td>\n",
       "      <td>12</td>\n",
       "      <td>10</td>\n",
       "      <td>1</td>\n",
       "    </tr>\n",
       "    <tr>\n",
       "      <th>4</th>\n",
       "      <td>None</td>\n",
       "      <td>291.14</td>\n",
       "      <td>0.0</td>\n",
       "      <td>0.0</td>\n",
       "      <td>75</td>\n",
       "      <td>Clouds</td>\n",
       "      <td>broken clouds</td>\n",
       "      <td>2012-10-02 13:00:00</td>\n",
       "      <td>4918</td>\n",
       "      <td>13</td>\n",
       "      <td>10</td>\n",
       "      <td>1</td>\n",
       "    </tr>\n",
       "  </tbody>\n",
       "</table>\n",
       "</div>"
      ],
      "text/plain": [
       "  holiday    temp  rain_1h  snow_1h  clouds_all weather_main  \\\n",
       "0    None  288.28      0.0      0.0          40       Clouds   \n",
       "1    None  289.36      0.0      0.0          75       Clouds   \n",
       "2    None  289.58      0.0      0.0          90       Clouds   \n",
       "3    None  290.13      0.0      0.0          90       Clouds   \n",
       "4    None  291.14      0.0      0.0          75       Clouds   \n",
       "\n",
       "  weather_description           date_time  traffic_volume  hour  month  \\\n",
       "0    scattered clouds 2012-10-02 09:00:00            5545     9     10   \n",
       "1       broken clouds 2012-10-02 10:00:00            4516    10     10   \n",
       "2     overcast clouds 2012-10-02 11:00:00            4767    11     10   \n",
       "3     overcast clouds 2012-10-02 12:00:00            5026    12     10   \n",
       "4       broken clouds 2012-10-02 13:00:00            4918    13     10   \n",
       "\n",
       "   dayofweek  \n",
       "0          1  \n",
       "1          1  \n",
       "2          1  \n",
       "3          1  \n",
       "4          1  "
      ]
     },
     "execution_count": 8,
     "metadata": {},
     "output_type": "execute_result"
    }
   ],
   "source": [
    "day.head()"
   ]
  },
  {
   "cell_type": "code",
   "execution_count": 30,
   "id": "1d6c10a1",
   "metadata": {},
   "outputs": [
    {
     "data": {
      "image/png": "[encoded data removed]",
      "text/plain": [
       "<Figure size 432x288 with 1 Axes>"
      ]
     },
     "metadata": {
      "needs_background": "light"
     },
     "output_type": "display_data"
    }
   ],
   "source": [
    "by_month = day['traffic_volume'].groupby(day['month']).mean(numeric_only=True)\n",
    "\n",
    "x = np.arange(0, 13, 1)\n",
    "plt.plot(by_month)\n",
    "plt.title('Traffic volume by month')\n",
    "plt.xlabel('Month')\n",
    "plt.ylabel('Traffic volume')\n",
    "plt.ylim(0,5000)\n",
    "plt.xticks(x);"
   ]
  },
  {
   "cell_type": "markdown",
   "id": "91f18ed0",
   "metadata": {},
   "source": [
    "#### Observations:\n",
    "Slight drop-offs in traffic volume in the months of November, December, Jan, Feb and July - perhaps these are linked to holiday periods. But when we normalise the y-axis, the difference between the months does not appear particularly significant."
   ]
  },
  {
   "cell_type": "code",
   "execution_count": 31,
   "id": "6d667c7f",
   "metadata": {},
   "outputs": [
    {
     "data": {
      "image/png": "[encoded data removed]",
      "text/plain": [
       "<Figure size 432x288 with 1 Axes>"
      ]
     },
     "metadata": {
      "needs_background": "light"
     },
     "output_type": "display_data"
    }
   ],
   "source": [
    "by_day = day['traffic_volume'].groupby(day['dayofweek']).mean(numeric_only=True)\n",
    "\n",
    "x = np.arange(0, 7, 1)\n",
    "plt.plot(by_day)\n",
    "plt.title('Traffic volume by day')\n",
    "plt.xlabel('Day')\n",
    "plt.ylabel('Traffic volume')\n",
    "plt.ylim(0,5500)\n",
    "plt.xticks(x);"
   ]
  },
  {
   "cell_type": "markdown",
   "id": "85d24023",
   "metadata": {},
   "source": [
    "#### Observations:\n",
    "There is a marked drop-off in traffic volumes on weekends. Therefore we should isolate business day and weekend data."
   ]
  },
  {
   "cell_type": "code",
   "execution_count": 32,
   "id": "df5766f9",
   "metadata": {},
   "outputs": [],
   "source": [
    "busday = day.loc[day['dayofweek'] < 5]\n",
    "weekend = day.loc[day['dayofweek'] > 4]\n",
    "\n",
    "by_hour_busday = busday['traffic_volume'].groupby(busday['hour']).mean(numeric_only = True)\n",
    "by_hour_weekend = weekend['traffic_volume'].groupby(weekend['hour']).mean(numeric_only = True)"
   ]
  },
  {
   "cell_type": "code",
   "execution_count": 38,
   "id": "18e5dd82",
   "metadata": {},
   "outputs": [
    {
     "data": {
      "text/plain": [
       "Text(0.5, 1.0, 'Traffic volume by hour - business days vs weekend')"
      ]
     },
     "execution_count": 38,
     "metadata": {},
     "output_type": "execute_result"
    },
    {
     "data": {
      "image/png": "[encoded data removed]",
      "text/plain": [
       "<Figure size 720x360 with 1 Axes>"
      ]
     },
     "metadata": {
      "needs_background": "light"
     },
     "output_type": "display_data"
    }
   ],
   "source": [
    "plt.figure(figsize = [10, 5])\n",
    "\n",
    "x = np.arange(7,19,1)\n",
    "plt.plot(by_hour_busday)\n",
    "plt.plot(by_hour_weekend)\n",
    "plt.xticks(x);\n",
    "plt.legend(['business days','weekend'])\n",
    "plt.title('Traffic volume by hour - business days vs weekend')"
   ]
  },
  {
   "cell_type": "markdown",
   "id": "cf1004c8",
   "metadata": {},
   "source": [
    "#### Observations:\n",
    "Traffic volume is generally higher on business days at every hour, but the peaks vary. Highest traffic volumes during business days are during rush hours, 7am-9am and 3pm-5pm. The highest traffic volumes on weekends occur between 12pm-5pm, where people might be out for the day."
   ]
  },
  {
   "cell_type": "markdown",
   "id": "d07768b1",
   "metadata": {},
   "source": [
    "## Weather indicators"
   ]
  },
  {
   "cell_type": "markdown",
   "id": "20be70fe",
   "metadata": {},
   "source": [
    "Look at correlation between traffic volume and numerical weather indicators."
   ]
  },
  {
   "cell_type": "code",
   "execution_count": 34,
   "id": "fba48547",
   "metadata": {},
   "outputs": [
    {
     "data": {
      "text/html": [
       "<div>\n",
       "<style scoped>\n",
       "    .dataframe tbody tr th:only-of-type {\n",
       "        vertical-align: middle;\n",
       "    }\n",
       "\n",
       "    .dataframe tbody tr th {\n",
       "        vertical-align: top;\n",
       "    }\n",
       "\n",
       "    .dataframe thead th {\n",
       "        text-align: right;\n",
       "    }\n",
       "</style>\n",
       "<table border=\"1\" class=\"dataframe\">\n",
       "  <thead>\n",
       "    <tr style=\"text-align: right;\">\n",
       "      <th></th>\n",
       "      <th>traffic_volume</th>\n",
       "    </tr>\n",
       "  </thead>\n",
       "  <tbody>\n",
       "    <tr>\n",
       "      <th>temp</th>\n",
       "      <td>0.130299</td>\n",
       "    </tr>\n",
       "    <tr>\n",
       "      <th>rain_1h</th>\n",
       "      <td>0.004714</td>\n",
       "    </tr>\n",
       "    <tr>\n",
       "      <th>snow_1h</th>\n",
       "      <td>0.000733</td>\n",
       "    </tr>\n",
       "    <tr>\n",
       "      <th>clouds_all</th>\n",
       "      <td>0.067054</td>\n",
       "    </tr>\n",
       "    <tr>\n",
       "      <th>traffic_volume</th>\n",
       "      <td>1.000000</td>\n",
       "    </tr>\n",
       "    <tr>\n",
       "      <th>hour</th>\n",
       "      <td>0.352401</td>\n",
       "    </tr>\n",
       "  </tbody>\n",
       "</table>\n",
       "</div>"
      ],
      "text/plain": [
       "                traffic_volume\n",
       "temp                  0.130299\n",
       "rain_1h               0.004714\n",
       "snow_1h               0.000733\n",
       "clouds_all            0.067054\n",
       "traffic_volume        1.000000\n",
       "hour                  0.352401"
      ]
     },
     "execution_count": 34,
     "metadata": {},
     "output_type": "execute_result"
    }
   ],
   "source": [
    "traffic.corr()[['traffic_volume']]"
   ]
  },
  {
   "cell_type": "markdown",
   "id": "371d63be",
   "metadata": {},
   "source": [
    "Out of the numerical weather indicators, temperature has the highest correlation with traffic volume, so we will investigate that further using a scatter plot."
   ]
  },
  {
   "cell_type": "code",
   "execution_count": 76,
   "id": "c690a49b",
   "metadata": {},
   "outputs": [
    {
     "data": {
      "image/png": "[encoded data removed]",
      "text/plain": [
       "<Figure size 432x288 with 1 Axes>"
      ]
     },
     "metadata": {
      "needs_background": "light"
     },
     "output_type": "display_data"
    }
   ],
   "source": [
    "plt.scatter(x = traffic['temp'], y = traffic['traffic_volume']);"
   ]
  },
  {
   "cell_type": "markdown",
   "id": "87a810e0",
   "metadata": {},
   "source": [
    "There are some outliers, so we will remove them and look at the pearsons correlation coefficient and scatter plot again."
   ]
  },
  {
   "cell_type": "code",
   "execution_count": 40,
   "id": "240d8b3b",
   "metadata": {},
   "outputs": [
    {
     "data": {
      "text/html": [
       "<div>\n",
       "<style scoped>\n",
       "    .dataframe tbody tr th:only-of-type {\n",
       "        vertical-align: middle;\n",
       "    }\n",
       "\n",
       "    .dataframe tbody tr th {\n",
       "        vertical-align: top;\n",
       "    }\n",
       "\n",
       "    .dataframe thead th {\n",
       "        text-align: right;\n",
       "    }\n",
       "</style>\n",
       "<table border=\"1\" class=\"dataframe\">\n",
       "  <thead>\n",
       "    <tr style=\"text-align: right;\">\n",
       "      <th></th>\n",
       "      <th>traffic_volume</th>\n",
       "    </tr>\n",
       "  </thead>\n",
       "  <tbody>\n",
       "    <tr>\n",
       "      <th>temp</th>\n",
       "      <td>0.132291</td>\n",
       "    </tr>\n",
       "    <tr>\n",
       "      <th>rain_1h</th>\n",
       "      <td>0.004713</td>\n",
       "    </tr>\n",
       "    <tr>\n",
       "      <th>snow_1h</th>\n",
       "      <td>0.000728</td>\n",
       "    </tr>\n",
       "    <tr>\n",
       "      <th>clouds_all</th>\n",
       "      <td>0.066819</td>\n",
       "    </tr>\n",
       "    <tr>\n",
       "      <th>traffic_volume</th>\n",
       "      <td>1.000000</td>\n",
       "    </tr>\n",
       "    <tr>\n",
       "      <th>hour</th>\n",
       "      <td>0.352289</td>\n",
       "    </tr>\n",
       "  </tbody>\n",
       "</table>\n",
       "</div>"
      ],
      "text/plain": [
       "                traffic_volume\n",
       "temp                  0.132291\n",
       "rain_1h               0.004713\n",
       "snow_1h               0.000728\n",
       "clouds_all            0.066819\n",
       "traffic_volume        1.000000\n",
       "hour                  0.352289"
      ]
     },
     "execution_count": 40,
     "metadata": {},
     "output_type": "execute_result"
    }
   ],
   "source": [
    "traffic[traffic['temp']>200].corr()[['traffic_volume']]"
   ]
  },
  {
   "cell_type": "code",
   "execution_count": 41,
   "id": "e013c760",
   "metadata": {},
   "outputs": [
    {
     "data": {
      "text/plain": [
       "<matplotlib.collections.PathCollection at 0x23590fa0700>"
      ]
     },
     "execution_count": 41,
     "metadata": {},
     "output_type": "execute_result"
    },
    {
     "data": {
      "image/png": "[encoded data removed]",
      "text/plain": [
       "<Figure size 432x288 with 1 Axes>"
      ]
     },
     "metadata": {
      "needs_background": "light"
     },
     "output_type": "display_data"
    }
   ],
   "source": [
    "traffic_temp200 = traffic[traffic['temp']>200]\n",
    "plt.scatter(x = traffic_temp200['temp'], y = traffic_temp200['traffic_volume'])"
   ]
  },
  {
   "cell_type": "markdown",
   "id": "165582d4",
   "metadata": {},
   "source": [
    "#### Observations:\n",
    "Difficult to see any patters because the plot is extremely dense with a widespread distribution of points. This suggests temperature may not be a good indicator of traffic volumes."
   ]
  },
  {
   "cell_type": "markdown",
   "id": "28e28167",
   "metadata": {},
   "source": [
    "## Weather types"
   ]
  },
  {
   "cell_type": "markdown",
   "id": "6147eaba",
   "metadata": {},
   "source": [
    "Look at correlation between traffic volume and categorical weather indicators (`weather_main` and `weather_description`)."
   ]
  },
  {
   "cell_type": "code",
   "execution_count": 49,
   "id": "362d8e6c",
   "metadata": {},
   "outputs": [],
   "source": [
    "by_weather_main = traffic.groupby(traffic['weather_main']).mean(numeric_only = True)\n",
    "by_weather_type = traffic.groupby(traffic['weather_description']).mean(numeric_only = True)"
   ]
  },
  {
   "cell_type": "code",
   "execution_count": 53,
   "id": "673d5bf4",
   "metadata": {},
   "outputs": [
    {
     "data": {
      "text/html": [
       "<div>\n",
       "<style scoped>\n",
       "    .dataframe tbody tr th:only-of-type {\n",
       "        vertical-align: middle;\n",
       "    }\n",
       "\n",
       "    .dataframe tbody tr th {\n",
       "        vertical-align: top;\n",
       "    }\n",
       "\n",
       "    .dataframe thead th {\n",
       "        text-align: right;\n",
       "    }\n",
       "</style>\n",
       "<table border=\"1\" class=\"dataframe\">\n",
       "  <thead>\n",
       "    <tr style=\"text-align: right;\">\n",
       "      <th></th>\n",
       "      <th>temp</th>\n",
       "      <th>rain_1h</th>\n",
       "      <th>snow_1h</th>\n",
       "      <th>clouds_all</th>\n",
       "      <th>traffic_volume</th>\n",
       "      <th>hour</th>\n",
       "    </tr>\n",
       "    <tr>\n",
       "      <th>weather_main</th>\n",
       "      <th></th>\n",
       "      <th></th>\n",
       "      <th></th>\n",
       "      <th></th>\n",
       "      <th></th>\n",
       "      <th></th>\n",
       "    </tr>\n",
       "  </thead>\n",
       "  <tbody>\n",
       "    <tr>\n",
       "      <th>Clear</th>\n",
       "      <td>281.489971</td>\n",
       "      <td>0.000000</td>\n",
       "      <td>0.000000</td>\n",
       "      <td>1.546710</td>\n",
       "      <td>3055.908819</td>\n",
       "      <td>11.228138</td>\n",
       "    </tr>\n",
       "    <tr>\n",
       "      <th>Clouds</th>\n",
       "      <td>281.466101</td>\n",
       "      <td>0.000000</td>\n",
       "      <td>0.000000</td>\n",
       "      <td>64.056120</td>\n",
       "      <td>3618.449749</td>\n",
       "      <td>12.467753</td>\n",
       "    </tr>\n",
       "    <tr>\n",
       "      <th>Drizzle</th>\n",
       "      <td>283.795431</td>\n",
       "      <td>0.157512</td>\n",
       "      <td>0.000000</td>\n",
       "      <td>82.319605</td>\n",
       "      <td>3290.727073</td>\n",
       "      <td>11.447007</td>\n",
       "    </tr>\n",
       "    <tr>\n",
       "      <th>Fog</th>\n",
       "      <td>279.415713</td>\n",
       "      <td>0.087007</td>\n",
       "      <td>0.000625</td>\n",
       "      <td>51.497807</td>\n",
       "      <td>2703.720395</td>\n",
       "      <td>7.992325</td>\n",
       "    </tr>\n",
       "    <tr>\n",
       "      <th>Haze</th>\n",
       "      <td>275.818581</td>\n",
       "      <td>0.046868</td>\n",
       "      <td>0.000000</td>\n",
       "      <td>58.670588</td>\n",
       "      <td>3502.101471</td>\n",
       "      <td>11.492647</td>\n",
       "    </tr>\n",
       "    <tr>\n",
       "      <th>Mist</th>\n",
       "      <td>279.476892</td>\n",
       "      <td>0.238336</td>\n",
       "      <td>0.000728</td>\n",
       "      <td>65.956303</td>\n",
       "      <td>2932.956639</td>\n",
       "      <td>9.495966</td>\n",
       "    </tr>\n",
       "    <tr>\n",
       "      <th>Rain</th>\n",
       "      <td>286.979586</td>\n",
       "      <td>2.281056</td>\n",
       "      <td>0.000187</td>\n",
       "      <td>72.599788</td>\n",
       "      <td>3317.905501</td>\n",
       "      <td>11.634520</td>\n",
       "    </tr>\n",
       "    <tr>\n",
       "      <th>Smoke</th>\n",
       "      <td>290.927500</td>\n",
       "      <td>0.527000</td>\n",
       "      <td>0.000000</td>\n",
       "      <td>53.350000</td>\n",
       "      <td>3237.650000</td>\n",
       "      <td>10.900000</td>\n",
       "    </tr>\n",
       "    <tr>\n",
       "      <th>Snow</th>\n",
       "      <td>267.955188</td>\n",
       "      <td>0.025223</td>\n",
       "      <td>0.001655</td>\n",
       "      <td>81.465229</td>\n",
       "      <td>3016.844228</td>\n",
       "      <td>11.096314</td>\n",
       "    </tr>\n",
       "    <tr>\n",
       "      <th>Squall</th>\n",
       "      <td>292.387500</td>\n",
       "      <td>3.482500</td>\n",
       "      <td>0.000000</td>\n",
       "      <td>76.000000</td>\n",
       "      <td>2061.750000</td>\n",
       "      <td>10.000000</td>\n",
       "    </tr>\n",
       "    <tr>\n",
       "      <th>Thunderstorm</th>\n",
       "      <td>292.716431</td>\n",
       "      <td>1.189246</td>\n",
       "      <td>0.000000</td>\n",
       "      <td>68.515474</td>\n",
       "      <td>3001.620890</td>\n",
       "      <td>11.211799</td>\n",
       "    </tr>\n",
       "  </tbody>\n",
       "</table>\n",
       "</div>"
      ],
      "text/plain": [
       "                    temp   rain_1h   snow_1h  clouds_all  traffic_volume  \\\n",
       "weather_main                                                               \n",
       "Clear         281.489971  0.000000  0.000000    1.546710     3055.908819   \n",
       "Clouds        281.466101  0.000000  0.000000   64.056120     3618.449749   \n",
       "Drizzle       283.795431  0.157512  0.000000   82.319605     3290.727073   \n",
       "Fog           279.415713  0.087007  0.000625   51.497807     2703.720395   \n",
       "Haze          275.818581  0.046868  0.000000   58.670588     3502.101471   \n",
       "Mist          279.476892  0.238336  0.000728   65.956303     2932.956639   \n",
       "Rain          286.979586  2.281056  0.000187   72.599788     3317.905501   \n",
       "Smoke         290.927500  0.527000  0.000000   53.350000     3237.650000   \n",
       "Snow          267.955188  0.025223  0.001655   81.465229     3016.844228   \n",
       "Squall        292.387500  3.482500  0.000000   76.000000     2061.750000   \n",
       "Thunderstorm  292.716431  1.189246  0.000000   68.515474     3001.620890   \n",
       "\n",
       "                   hour  \n",
       "weather_main             \n",
       "Clear         11.228138  \n",
       "Clouds        12.467753  \n",
       "Drizzle       11.447007  \n",
       "Fog            7.992325  \n",
       "Haze          11.492647  \n",
       "Mist           9.495966  \n",
       "Rain          11.634520  \n",
       "Smoke         10.900000  \n",
       "Snow          11.096314  \n",
       "Squall        10.000000  \n",
       "Thunderstorm  11.211799  "
      ]
     },
     "execution_count": 53,
     "metadata": {},
     "output_type": "execute_result"
    }
   ],
   "source": [
    "by_weather_main"
   ]
  },
  {
   "cell_type": "code",
   "execution_count": 59,
   "id": "5e1108ca",
   "metadata": {},
   "outputs": [
    {
     "data": {
      "image/png": "[encoded data removed]",
      "text/plain": [
       "<Figure size 432x288 with 1 Axes>"
      ]
     },
     "metadata": {
      "needs_background": "light"
     },
     "output_type": "display_data"
    }
   ],
   "source": [
    "plt.barh(y = by_weather_main.index, width = by_weather_main['traffic_volume'])\n",
    "plt.title('Mean traffic volume by weather main');"
   ]
  },
  {
   "cell_type": "code",
   "execution_count": 66,
   "id": "9cfe00f5",
   "metadata": {},
   "outputs": [
    {
     "data": {
      "image/png": "[encoded data removed]",
      "text/plain": [
       "<Figure size 720x720 with 1 Axes>"
      ]
     },
     "metadata": {
      "needs_background": "light"
     },
     "output_type": "display_data"
    }
   ],
   "source": [
    "plt.figure(figsize = [10,10])\n",
    "plt.barh(y = by_weather_type.index, width = by_weather_type['traffic_volume'])\n",
    "plt.title('Mean traffic volume by weather description');"
   ]
  },
  {
   "cell_type": "markdown",
   "id": "9bf7ec4b",
   "metadata": {},
   "source": [
    "After looking at means, we should look at counts to get a picture of how frequently the said weather is occuring."
   ]
  },
  {
   "cell_type": "code",
   "execution_count": 72,
   "id": "07ed72b4",
   "metadata": {},
   "outputs": [],
   "source": [
    "by_weather_main_count = traffic['traffic_volume'].groupby(traffic['weather_main']).count()\n",
    "by_weather_type_count = traffic['traffic_volume'].groupby(traffic['weather_description']).count()"
   ]
  },
  {
   "cell_type": "code",
   "execution_count": 75,
   "id": "af9b3840",
   "metadata": {},
   "outputs": [
    {
     "data": {
      "image/png": "[encoded data removed]",
      "text/plain": [
       "<Figure size 432x288 with 1 Axes>"
      ]
     },
     "metadata": {
      "needs_background": "light"
     },
     "output_type": "display_data"
    }
   ],
   "source": [
    "plt.barh(y = by_weather_main.index, width = by_weather_main_count)\n",
    "plt.title('Counts of traffic volume by weather main');"
   ]
  },
  {
   "cell_type": "code",
   "execution_count": 74,
   "id": "4cd44ec3",
   "metadata": {},
   "outputs": [
    {
     "data": {
      "image/png": "[encoded data removed]",
      "text/plain": [
       "<Figure size 720x720 with 1 Axes>"
      ]
     },
     "metadata": {
      "needs_background": "light"
     },
     "output_type": "display_data"
    }
   ],
   "source": [
    "plt.figure(figsize = [10,10])\n",
    "plt.barh(y = by_weather_type_count.index, width = by_weather_type_count)\n",
    "plt.title('Counts of traffic volume by weather description');"
   ]
  },
  {
   "cell_type": "markdown",
   "id": "0c99ce2c",
   "metadata": {},
   "source": [
    "#### Observations:\n",
    "Shower snow sees the highest traffic volume (above 5000 cars), followed by light shower snow, proximity shower rain, sleet and freezing rain. Based on this alone, there does seem to a pattern here around snow and rain. However, when you look at the aggregated mean traffic volumes for snow and rain overall, they do not stand out as indicators for high traffic volume. \n",
    "\n",
    "This does not mean that rain and snow are not strong indicators. It could simply reflect that there are much fewer days where snow and rain occurs, and the fact that day of week and time of day, are much stronger factors as indicators of traffic volume.\n",
    "\n",
    "A suggested next step would be to analyse the weather data after controlling for day of week and time of day."
   ]
  },
  {
   "cell_type": "markdown",
   "id": "9dbc0239",
   "metadata": {},
   "source": [
    "#### Conclusions:\n",
    "\n",
    "Based on our analysis, indicators of high traffic volume appear to be:\n",
    "- Day-time (vs. night-time)\n",
    "- Business days (vs. weekends), specifically rush hour between 7am-9am and 3pm-5pm\n",
    "- When shower snow and rain occur (although more analysis is needed here)"
   ]
  }
 ],
 "metadata": {
  "kernelspec": {
   "display_name": "Python 3 (ipykernel)",
   "language": "python",
   "name": "python3"
  },
  "language_info": {
   "codemirror_mode": {
    "name": "ipython",
    "version": 3
   },
   "file_extension": ".py",
   "mimetype": "text/x-python",
   "name": "python",
   "nbconvert_exporter": "python",
   "pygments_lexer": "ipython3",
   "version": "3.11.5"
  }
 },
 "nbformat": 4,
 "nbformat_minor": 5
}
